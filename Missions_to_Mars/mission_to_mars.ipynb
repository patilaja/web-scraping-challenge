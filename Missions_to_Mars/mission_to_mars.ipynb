{
 "cells": [
  {
   "cell_type": "markdown",
   "metadata": {},
   "source": [
    "## Web Scraping - Mission to Mars"
   ]
  },
  {
   "cell_type": "markdown",
   "metadata": {},
   "source": [
    "## Background: \n",
    "* Build a flask web application that scrapes various websites for data related to the Mission to Mars and displays the information in a single HTML page.\n",
    "\n",
    "### Final Output Screens:"
   ]
  },
  {
   "cell_type": "markdown",
   "metadata": {},
   "source": [
    "![final_app_part1.png](images/final_app_part1.png)\n",
    "![final_app_part2.png](images/final_app_part2.png)"
   ]
  },
  {
   "cell_type": "code",
   "execution_count": 1,
   "metadata": {},
   "outputs": [],
   "source": [
    "#Import dependecies\n",
    "from splinter import Browser\n",
    "from bs4 import BeautifulSoup\n",
    "import pandas as pd"
   ]
  },
  {
   "cell_type": "code",
   "execution_count": 2,
   "metadata": {},
   "outputs": [],
   "source": [
    "#Note: Please replace the path with your actual path to the chromedriver\n",
    "executable_path = {'executable_path': '/Users/anuaj/bin/chromedriver'}\n",
    "browser = Browser('chrome', **executable_path, headless=True)"
   ]
  },
  {
   "cell_type": "markdown",
   "metadata": {},
   "source": [
    "### NASA Mars News"
   ]
  },
  {
   "cell_type": "code",
   "execution_count": 3,
   "metadata": {},
   "outputs": [],
   "source": [
    "#Collect the latest News Title and Paragraph Text from https://mars.nasa.gov/. \n",
    "#news_title = \"NASA's Next Mars Mission to Investigate Interior of Red Planet\"\n",
    "#news_p = \"Preparation of NASA's next...West Coast.\""
   ]
  },
  {
   "cell_type": "code",
   "execution_count": 4,
   "metadata": {},
   "outputs": [],
   "source": [
    "#Mars news URL and visit the browser\n",
    "mars_news_url = 'https://mars.nasa.gov/news/?page=0&per_page=40&order=publish_date+desc%2Ccreated_at+desc&search=&category=19%2C165%2C184%2C204&blank_scope=Latest'\n",
    "browser.visit(mars_news_url)"
   ]
  },
  {
   "cell_type": "code",
   "execution_count": 5,
   "metadata": {},
   "outputs": [],
   "source": [
    "#Add wait time to load browser\n",
    "browser.wait_time = 10"
   ]
  },
  {
   "cell_type": "code",
   "execution_count": 6,
   "metadata": {},
   "outputs": [
    {
     "name": "stdout",
     "output_type": "stream",
     "text": [
      "news_title =  NASA's Perseverance Rover Goes Through Trials by Fire, Ice, Light and Sound \n",
      "\n",
      "news_p =  The agency's new Mars rover is put through a series of tests in vacuum chambers, acoustic chambers and more to get ready for the Red Planet. \n",
      "\n"
     ]
    }
   ],
   "source": [
    "#Get the latest news title and news paragraph\n",
    "\n",
    "#Set beautifulsoup object\n",
    "mars_news_html = browser.html\n",
    "mars_news_soup = BeautifulSoup(mars_news_html, 'html.parser')\n",
    "\n",
    "#Review webpage and get html tag and class for searcg\n",
    "mars_news = mars_news_soup.find_all('div', class_='list_text')\n",
    "\n",
    "#Loop through news\n",
    "for news in mars_news:\n",
    "    try:\n",
    "        #Save news tilte and news paragraph\n",
    "        news_title=news.find('div', class_='content_title').text\n",
    "        news_p=news.find('div', class_='article_teaser_body').text\n",
    "        \n",
    "        #Print results\n",
    "        print(\"news_title = \", news_title,\"\\n\")\n",
    "        print(\"news_p = \", news_p,\"\\n\")\n",
    "        \n",
    "        #Exit loop as we got the latest news\n",
    "        break\n",
    "    except:\n",
    "        #If error continue to next news - this is simply to make sure we have news title and news paragraph \n",
    "        pass"
   ]
  },
  {
   "cell_type": "markdown",
   "metadata": {},
   "source": [
    "### JPL Mars Space Images - Featured Image"
   ]
  },
  {
   "cell_type": "code",
   "execution_count": 7,
   "metadata": {},
   "outputs": [],
   "source": [
    "#Use splinter to navigate the site https://www.jpl.nasa.gov/spaceimages/?search=&category=Mars\n",
    "#Featured Mars Image and assign the url string to a variable called featured_image_url\n",
    "#image url to the full size .jpg image - url string for this image\n",
    "#imageurl = 'https://www.jpl.nasa.gov/spaceimages/images/largesize/PIA16225_hires.jpg'"
   ]
  },
  {
   "cell_type": "code",
   "execution_count": 8,
   "metadata": {},
   "outputs": [],
   "source": [
    "#JPL base url\n",
    "jpl_base_url ='https://www.jpl.nasa.gov'"
   ]
  },
  {
   "cell_type": "code",
   "execution_count": 9,
   "metadata": {},
   "outputs": [],
   "source": [
    "#Set JPL seach url and visit the browser\n",
    "jpl_url = 'https://www.jpl.nasa.gov/spaceimages/details.php?id=PIA02570'\n",
    "browser.visit(jpl_url)"
   ]
  },
  {
   "cell_type": "code",
   "execution_count": 10,
   "metadata": {},
   "outputs": [],
   "source": [
    "#Add wait time to load browser\n",
    "browser.wait_time = 10"
   ]
  },
  {
   "cell_type": "code",
   "execution_count": 11,
   "metadata": {},
   "outputs": [],
   "source": [
    "#Get soup oject\n",
    "jpl_html = browser.html\n",
    "jpl_soup = BeautifulSoup(jpl_html, 'html.parser')"
   ]
  },
  {
   "cell_type": "code",
   "execution_count": 12,
   "metadata": {},
   "outputs": [
    {
     "name": "stdout",
     "output_type": "stream",
     "text": [
      "featuredimageurl =  https://www.jpl.nasa.gov/spaceimages/images/largesize/PIA02570_hires.jpg\n"
     ]
    }
   ],
   "source": [
    "#Find the figure tage with ledge class with soup oject \n",
    "jpl_image_urls = jpl_soup.find_all('figure', class_='lede')\n",
    "\n",
    "#Get to specific URL\n",
    "for jpg_image_url in jpl_image_urls:\n",
    "    featured_image_url = jpl_base_url+jpg_image_url.find(\"a\")[\"href\"]\n",
    "    print(\"featuredimageurl = \", featured_image_url)"
   ]
  },
  {
   "cell_type": "markdown",
   "metadata": {},
   "source": [
    "### Mars Weather"
   ]
  },
  {
   "cell_type": "code",
   "execution_count": 13,
   "metadata": {},
   "outputs": [],
   "source": [
    "#Visit the Mars Weather twitter account and scrape the latest Mars weather tweet from the page. \n",
    "#Save the tweet text for the weather report as a variable called mars_weather.\n",
    "#mars_weather = 'Sol 1801 (Aug 30, 2017), Sunny, high -21C/-5F, low -80C/-112F, pressure at 8.82 hPa, daylight 06:09-17:55' "
   ]
  },
  {
   "cell_type": "code",
   "execution_count": 14,
   "metadata": {},
   "outputs": [],
   "source": [
    "#Mars weather tweeter handle\n",
    "mars_weather_twit_handle=\"https://twitter.com/marswxreport?lang=en\"\n",
    "browser.visit(mars_weather_twit_handle)"
   ]
  },
  {
   "cell_type": "code",
   "execution_count": 15,
   "metadata": {},
   "outputs": [],
   "source": [
    "#Add wait time to load browser\n",
    "browser.wait_time = 30"
   ]
  },
  {
   "cell_type": "code",
   "execution_count": 16,
   "metadata": {},
   "outputs": [],
   "source": [
    "#Get the beautifulsoup object\n",
    "mars_weather_twit_html = browser.html\n",
    "mars_weather_twit_soup = BeautifulSoup(mars_weather_twit_html, 'html.parser')"
   ]
  },
  {
   "cell_type": "code",
   "execution_count": 17,
   "metadata": {},
   "outputs": [],
   "source": [
    "#Parse tweet page using span tag and class\n",
    "mars_weather_tweets= mars_weather_twit_soup.find_all(\"span\",class_=\"css-901oao css-16my406 r-1qd0xha r-ad9z0x r-bcqeeo r-qvutc0\")"
   ]
  },
  {
   "cell_type": "code",
   "execution_count": 19,
   "metadata": {},
   "outputs": [
    {
     "name": "stdout",
     "output_type": "stream",
     "text": [
      "InSight sol 524 (2020-05-18) low -92.5ºC (-134.4ºF) high 0.5ºC (32.9ºF)\n",
      "winds from the SW at 4.8 m/s (10.7 mph) gusting to 15.3 m/s (34.3 mph)\n",
      "pressure at 7.00 hPa\n"
     ]
    }
   ],
   "source": [
    "#Loop through tweets - we just need latest\n",
    "for mars_weather_tweet in mars_weather_tweets:\n",
    "    #Get the Insight text - this is where weather info starts\n",
    "    try:\n",
    "        if (mars_weather_tweet.text.split()[0]==\"InSight\"):\n",
    "            mars_weather =mars_weather_tweet.text\n",
    "            print(mars_weather)\n",
    "            break\n",
    "    except:\n",
    "        pass"
   ]
  },
  {
   "cell_type": "markdown",
   "metadata": {},
   "source": [
    "### Mars Facts"
   ]
  },
  {
   "cell_type": "code",
   "execution_count": 20,
   "metadata": {},
   "outputs": [],
   "source": [
    "#Visit the Mars Facts webpage https://space-facts.com/mars/ \n",
    "#use Pandas to scrape the table containing facts about the planet including Diameter, Mass, etc.\n",
    "#Use Pandas to convert the data to a HTML table string."
   ]
  },
  {
   "cell_type": "code",
   "execution_count": 21,
   "metadata": {},
   "outputs": [],
   "source": [
    "#Set url value\n",
    "mars_fact_url=\"https://space-facts.com/mars/\""
   ]
  },
  {
   "cell_type": "code",
   "execution_count": 22,
   "metadata": {},
   "outputs": [],
   "source": [
    "#Use Pandas to get html table \n",
    "mars_fact_dfs = pd.read_html(mars_fact_url)"
   ]
  },
  {
   "cell_type": "code",
   "execution_count": 23,
   "metadata": {},
   "outputs": [
    {
     "data": {
      "text/html": [
       "<div>\n",
       "<style scoped>\n",
       "    .dataframe tbody tr th:only-of-type {\n",
       "        vertical-align: middle;\n",
       "    }\n",
       "\n",
       "    .dataframe tbody tr th {\n",
       "        vertical-align: top;\n",
       "    }\n",
       "\n",
       "    .dataframe thead th {\n",
       "        text-align: right;\n",
       "    }\n",
       "</style>\n",
       "<table border=\"1\" class=\"dataframe\">\n",
       "  <thead>\n",
       "    <tr style=\"text-align: right;\">\n",
       "      <th></th>\n",
       "      <th>0</th>\n",
       "      <th>1</th>\n",
       "    </tr>\n",
       "  </thead>\n",
       "  <tbody>\n",
       "    <tr>\n",
       "      <td>0</td>\n",
       "      <td>Equatorial Diameter:</td>\n",
       "      <td>6,792 km</td>\n",
       "    </tr>\n",
       "    <tr>\n",
       "      <td>1</td>\n",
       "      <td>Polar Diameter:</td>\n",
       "      <td>6,752 km</td>\n",
       "    </tr>\n",
       "    <tr>\n",
       "      <td>2</td>\n",
       "      <td>Mass:</td>\n",
       "      <td>6.39 × 10^23 kg (0.11 Earths)</td>\n",
       "    </tr>\n",
       "    <tr>\n",
       "      <td>3</td>\n",
       "      <td>Moons:</td>\n",
       "      <td>2 (Phobos &amp; Deimos)</td>\n",
       "    </tr>\n",
       "    <tr>\n",
       "      <td>4</td>\n",
       "      <td>Orbit Distance:</td>\n",
       "      <td>227,943,824 km (1.38 AU)</td>\n",
       "    </tr>\n",
       "    <tr>\n",
       "      <td>5</td>\n",
       "      <td>Orbit Period:</td>\n",
       "      <td>687 days (1.9 years)</td>\n",
       "    </tr>\n",
       "    <tr>\n",
       "      <td>6</td>\n",
       "      <td>Surface Temperature:</td>\n",
       "      <td>-87 to -5 °C</td>\n",
       "    </tr>\n",
       "    <tr>\n",
       "      <td>7</td>\n",
       "      <td>First Record:</td>\n",
       "      <td>2nd millennium BC</td>\n",
       "    </tr>\n",
       "    <tr>\n",
       "      <td>8</td>\n",
       "      <td>Recorded By:</td>\n",
       "      <td>Egyptian astronomers</td>\n",
       "    </tr>\n",
       "  </tbody>\n",
       "</table>\n",
       "</div>"
      ],
      "text/plain": [
       "                      0                              1\n",
       "0  Equatorial Diameter:                       6,792 km\n",
       "1       Polar Diameter:                       6,752 km\n",
       "2                 Mass:  6.39 × 10^23 kg (0.11 Earths)\n",
       "3                Moons:            2 (Phobos & Deimos)\n",
       "4       Orbit Distance:       227,943,824 km (1.38 AU)\n",
       "5         Orbit Period:           687 days (1.9 years)\n",
       "6  Surface Temperature:                   -87 to -5 °C\n",
       "7         First Record:              2nd millennium BC\n",
       "8          Recorded By:           Egyptian astronomers"
      ]
     },
     "execution_count": 23,
     "metadata": {},
     "output_type": "execute_result"
    }
   ],
   "source": [
    "#Get first table and display\n",
    "mars_fact_df=mars_fact_dfs[0]\n",
    "mars_fact_df"
   ]
  },
  {
   "cell_type": "code",
   "execution_count": 24,
   "metadata": {},
   "outputs": [],
   "source": [
    "#Rename df columns\n",
    "mars_fact_df= mars_fact_df.rename(columns={0:\"Description\",1:\"Value\"})"
   ]
  },
  {
   "cell_type": "code",
   "execution_count": 25,
   "metadata": {},
   "outputs": [
    {
     "data": {
      "text/plain": [
       "'<table border=\"1\" class=\"dataframe\">  <thead>    <tr style=\"text-align: right;\">      <th>Description</th>      <th>Value</th>    </tr>  </thead>  <tbody>    <tr>      <td>Equatorial Diameter:</td>      <td>6,792 km</td>    </tr>    <tr>      <td>Polar Diameter:</td>      <td>6,752 km</td>    </tr>    <tr>      <td>Mass:</td>      <td>6.39 × 10^23 kg (0.11 Earths)</td>    </tr>    <tr>      <td>Moons:</td>      <td>2 (Phobos &amp; Deimos)</td>    </tr>    <tr>      <td>Orbit Distance:</td>      <td>227,943,824 km (1.38 AU)</td>    </tr>    <tr>      <td>Orbit Period:</td>      <td>687 days (1.9 years)</td>    </tr>    <tr>      <td>Surface Temperature:</td>      <td>-87 to -5 °C</td>    </tr>    <tr>      <td>First Record:</td>      <td>2nd millennium BC</td>    </tr>    <tr>      <td>Recorded By:</td>      <td>Egyptian astronomers</td>    </tr>  </tbody></table>'"
      ]
     },
     "execution_count": 25,
     "metadata": {},
     "output_type": "execute_result"
    }
   ],
   "source": [
    "#Set index= False to avoid getting index column.\n",
    "mars_fact_df = mars_fact_df.to_html(index=False)\n",
    "\n",
    "#Remove new line character\n",
    "mars_fact_df.replace(\"\\n\",\"\")"
   ]
  },
  {
   "cell_type": "code",
   "execution_count": 26,
   "metadata": {},
   "outputs": [
    {
     "data": {
      "text/plain": [
       "'<table border=\"1\" class=\"dataframe\">\\n  <thead>\\n    <tr style=\"text-align: right;\">\\n      <th>Description</th>\\n      <th>Value</th>\\n    </tr>\\n  </thead>\\n  <tbody>\\n    <tr>\\n      <td>Equatorial Diameter:</td>\\n      <td>6,792 km</td>\\n    </tr>\\n    <tr>\\n      <td>Polar Diameter:</td>\\n      <td>6,752 km</td>\\n    </tr>\\n    <tr>\\n      <td>Mass:</td>\\n      <td>6.39 × 10^23 kg (0.11 Earths)</td>\\n    </tr>\\n    <tr>\\n      <td>Moons:</td>\\n      <td>2 (Phobos &amp; Deimos)</td>\\n    </tr>\\n    <tr>\\n      <td>Orbit Distance:</td>\\n      <td>227,943,824 km (1.38 AU)</td>\\n    </tr>\\n    <tr>\\n      <td>Orbit Period:</td>\\n      <td>687 days (1.9 years)</td>\\n    </tr>\\n    <tr>\\n      <td>Surface Temperature:</td>\\n      <td>-87 to -5 °C</td>\\n    </tr>\\n    <tr>\\n      <td>First Record:</td>\\n      <td>2nd millennium BC</td>\\n    </tr>\\n    <tr>\\n      <td>Recorded By:</td>\\n      <td>Egyptian astronomers</td>\\n    </tr>\\n  </tbody>\\n</table>'"
      ]
     },
     "execution_count": 26,
     "metadata": {},
     "output_type": "execute_result"
    }
   ],
   "source": [
    "#Display results\n",
    "mars_fact_df"
   ]
  },
  {
   "cell_type": "markdown",
   "metadata": {},
   "source": [
    "### Mars Hemispheres"
   ]
  },
  {
   "cell_type": "code",
   "execution_count": 27,
   "metadata": {},
   "outputs": [],
   "source": [
    "#Visit the USGS Astrogeology site to obtain high resolution images for each of Mar's hemispheres.\n",
    "# Save both the image url string for the full resolution hemisphere image, and the Hemisphere title containing the hemisphere name. \n",
    "# Use a Python dictionary to store the data using the keys img_url and title."
   ]
  },
  {
   "cell_type": "code",
   "execution_count": 28,
   "metadata": {},
   "outputs": [],
   "source": [
    "#Set base url\n",
    "mars_hemispheres_base_url=\"https://astrogeology.usgs.gov\""
   ]
  },
  {
   "cell_type": "code",
   "execution_count": 29,
   "metadata": {},
   "outputs": [],
   "source": [
    "#Set Mars Hemispheres URL and visit the site\n",
    "mars_hemispheres_url=\"https://astrogeology.usgs.gov/search/results?q=hemisphere+enhanced&k1=target&v1=Mars\"\n",
    "browser.visit(mars_hemispheres_url)"
   ]
  },
  {
   "cell_type": "code",
   "execution_count": 30,
   "metadata": {},
   "outputs": [],
   "source": [
    "#Add wait time to load browser\n",
    "browser.wait_time = 10"
   ]
  },
  {
   "cell_type": "code",
   "execution_count": 31,
   "metadata": {},
   "outputs": [],
   "source": [
    "#Set beacutifulsoup oject\n",
    "mars_hemispheres_html = browser.html\n",
    "mars_hemispheres_soup = BeautifulSoup(mars_hemispheres_html, 'html.parser')"
   ]
  },
  {
   "cell_type": "code",
   "execution_count": 32,
   "metadata": {},
   "outputs": [],
   "source": [
    "#Search through html document to get to list of items\n",
    "mars_hemispheres= mars_hemispheres_soup.find_all(\"div\",class_=\"item\")"
   ]
  },
  {
   "cell_type": "code",
   "execution_count": 33,
   "metadata": {},
   "outputs": [
    {
     "name": "stdout",
     "output_type": "stream",
     "text": [
      "Cerberus Hemisphere Enhanced\n",
      "https://astrogeology.usgs.gov/search/map/Mars/Viking/cerberus_enhanced \n",
      "\n",
      "Schiaparelli Hemisphere Enhanced\n",
      "https://astrogeology.usgs.gov/search/map/Mars/Viking/schiaparelli_enhanced \n",
      "\n",
      "Syrtis Major Hemisphere Enhanced\n",
      "https://astrogeology.usgs.gov/search/map/Mars/Viking/syrtis_major_enhanced \n",
      "\n",
      "Valles Marineris Hemisphere Enhanced\n",
      "https://astrogeology.usgs.gov/search/map/Mars/Viking/valles_marineris_enhanced \n",
      "\n"
     ]
    }
   ],
   "source": [
    "#Let's build title list and page name list that will give us high res image\n",
    "titles=[]\n",
    "hemisphere_urls=[]\n",
    "\n",
    "#Loop through beautifulsoup results\n",
    "for mars_hemisphere in mars_hemispheres:\n",
    "    #Search for h3 tag to get title\n",
    "    mars_title =mars_hemisphere.find(\"h3\").text\n",
    "    #Append title to list\n",
    "    titles.append(mars_title)\n",
    "    #Get page reference\n",
    "    pagelink=mars_hemispheres_base_url +mars_hemisphere.a['href']\n",
    "    #Sppend page link to list\n",
    "    hemisphere_urls.append(pagelink)\n",
    "    \n",
    "    #Display results - just for sanity check\n",
    "    print(mars_title)\n",
    "    print(pagelink,\"\\n\")"
   ]
  },
  {
   "cell_type": "code",
   "execution_count": 34,
   "metadata": {},
   "outputs": [
    {
     "name": "stdout",
     "output_type": "stream",
     "text": [
      "https://astropedia.astrogeology.usgs.gov/download/Mars/Viking/cerberus_enhanced.tif/full.jpg\n",
      "https://astropedia.astrogeology.usgs.gov/download/Mars/Viking/schiaparelli_enhanced.tif/full.jpg\n",
      "https://astropedia.astrogeology.usgs.gov/download/Mars/Viking/syrtis_major_enhanced.tif/full.jpg\n",
      "https://astropedia.astrogeology.usgs.gov/download/Mars/Viking/valles_marineris_enhanced.tif/full.jpg\n"
     ]
    }
   ],
   "source": [
    "#Get List of high res image\n",
    "hemisphere_full_img=[]\n",
    "\n",
    "#Let's loop through each URL\n",
    "for hemisphere_url in hemisphere_urls:\n",
    "    #Visit browser\n",
    "    browser.visit(hemisphere_url)\n",
    "    hemisphere_full_html = browser.html\n",
    "    \n",
    "    #Add wait time to load browser\n",
    "    browser.wait_time = 10\n",
    "    \n",
    "    #Get beautifulsoup oject\n",
    "    hemisphere_full_soup = BeautifulSoup(hemisphere_full_html, 'html.parser')\n",
    "    \n",
    "    #Parse div tages of download class\n",
    "    mars_hemisphere_full_images= hemisphere_full_soup.find_all(\"div\",class_=\"downloads\")\n",
    "    \n",
    "    #Loop through list\n",
    "    for mars_hemisphere_full_image in mars_hemisphere_full_images:\n",
    "        #Get the a tag and href value\n",
    "        #imgurls = mars_image.find_all(\"li\")\n",
    "        image_url = mars_hemisphere_full_image.a['href']\n",
    "        #Append url in to list \n",
    "        hemisphere_full_img.append(image_url)\n",
    "        print(image_url)"
   ]
  },
  {
   "cell_type": "code",
   "execution_count": 35,
   "metadata": {},
   "outputs": [
    {
     "name": "stdout",
     "output_type": "stream",
     "text": [
      "hemisphereimageurls = [{'title': 'Cerberus Hemisphere Enhanced', 'img_url': 'https://astropedia.astrogeology.usgs.gov/download/Mars/Viking/cerberus_enhanced.tif/full.jpg'}, {'title': 'Schiaparelli Hemisphere Enhanced', 'img_url': 'https://astropedia.astrogeology.usgs.gov/download/Mars/Viking/schiaparelli_enhanced.tif/full.jpg'}, {'title': 'Syrtis Major Hemisphere Enhanced', 'img_url': 'https://astropedia.astrogeology.usgs.gov/download/Mars/Viking/syrtis_major_enhanced.tif/full.jpg'}, {'title': 'Valles Marineris Hemisphere Enhanced', 'img_url': 'https://astropedia.astrogeology.usgs.gov/download/Mars/Viking/valles_marineris_enhanced.tif/full.jpg'}]\n"
     ]
    }
   ],
   "source": [
    "#Build disctionary object\n",
    "hemisphere_full_imgs=[]\n",
    "\n",
    "#Pandas to convert lists to dictionary \n",
    "hemisphereimageurls = {} \n",
    "\n",
    "#Create df\n",
    "hemisphereimageurls_df=pd.DataFrame({\"title\":titles,\"img_url\":hemisphere_full_img})\n",
    "\n",
    "#Convert df to dictionary\n",
    "hemisphereimageurls = hemisphereimageurls_df.to_dict(orient='records')\n",
    "\n",
    "#Show Disctionary object - final resuts\n",
    "print(\"hemisphereimageurls =\", hemisphereimageurls)"
   ]
  },
  {
   "cell_type": "code",
   "execution_count": 36,
   "metadata": {},
   "outputs": [],
   "source": [
    "#Close browser\n",
    "browser.quit()"
   ]
  },
  {
   "cell_type": "code",
   "execution_count": null,
   "metadata": {},
   "outputs": [],
   "source": []
  }
 ],
 "metadata": {
  "kernelspec": {
   "display_name": "Python 3",
   "language": "python",
   "name": "python3"
  },
  "language_info": {
   "codemirror_mode": {
    "name": "ipython",
    "version": 3
   },
   "file_extension": ".py",
   "mimetype": "text/x-python",
   "name": "python",
   "nbconvert_exporter": "python",
   "pygments_lexer": "ipython3",
   "version": "3.7.6"
  }
 },
 "nbformat": 4,
 "nbformat_minor": 4
}
